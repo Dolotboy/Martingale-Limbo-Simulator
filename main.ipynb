{
  "nbformat": 4,
  "nbformat_minor": 0,
  "metadata": {
    "colab": {
      "provenance": []
    },
    "kernelspec": {
      "name": "python3",
      "display_name": "Python 3"
    },
    "language_info": {
      "name": "python"
    }
  },
  "cells": [
    {
      "cell_type": "code",
      "source": [
        "import random\n",
        "\n",
        "# Paramètres globaux\n",
        "original_balance = 100\n",
        "original_bet = 0.10\n",
        "nbr_turns = 1000\n",
        "target_multiplier = 1.9  # Ce que tu vises pour gagner\n",
        "win_chance = (1 / target_multiplier) * 99\n"
      ],
      "metadata": {
        "id": "K563oeH2vvmv"
      },
      "execution_count": 30,
      "outputs": []
    },
    {
      "cell_type": "code",
      "execution_count": 22,
      "metadata": {
        "colab": {
          "base_uri": "https://localhost:8080/"
        },
        "id": "KhXdoqDbt4Ck",
        "outputId": "8b67f709-9f05-4be4-ddc3-be809b9b71a5"
      },
      "outputs": [
        {
          "output_type": "stream",
          "name": "stdout",
          "text": [
            "💰 Balance initiale : 200$\n",
            "🎯 Taux de victoire estimé : 49.50%\n",
            "\n",
            "Balance finale après 342 tours : 10.30$\n",
            "❌ Perte nette\n"
          ]
        }
      ],
      "source": [
        "def generate_limbo_result():\n",
        "    return 1 / (1 - random.random())\n",
        "\n",
        "def run_single_session():\n",
        "    print(f\"💰 Balance initiale : {original_balance}$\")\n",
        "    print(f\"🎯 Taux de victoire estimé : {win_chance:.2f}%\\n\")\n",
        "    balance = original_balance\n",
        "    bet = original_bet\n",
        "\n",
        "    for turn in range(nbr_turns):\n",
        "        if bet > balance:\n",
        "            break\n",
        "\n",
        "        balance -= bet\n",
        "        limbo_result = generate_limbo_result()\n",
        "\n",
        "        if limbo_result >= target_multiplier:\n",
        "            gain = bet * target_multiplier\n",
        "            balance += gain\n",
        "            bet = original_bet\n",
        "        else:\n",
        "            bet *= 2\n",
        "\n",
        "    print(f\"Balance finale après {turn + 1} tours : {balance:.2f}$\")\n",
        "    print(f\"{'✅ Gain net' if balance >= original_balance else '❌ Perte nette'}\")\n",
        "\n",
        "run_single_session()"
      ]
    },
    {
      "cell_type": "code",
      "source": [
        "def run_simulation():\n",
        "    balance = original_balance\n",
        "    bet = original_bet\n",
        "\n",
        "    for turn in range(nbr_turns):\n",
        "        if bet > balance:\n",
        "            return False\n",
        "\n",
        "        balance -= bet\n",
        "        limbo_result = generate_limbo_result()\n",
        "\n",
        "        if limbo_result >= target_multiplier:\n",
        "            gain = bet * target_multiplier\n",
        "            balance += gain\n",
        "            bet = original_bet\n",
        "        else:\n",
        "            bet *= 2\n",
        "\n",
        "    return balance >= original_balance\n",
        "\n",
        "# Paramètres de simulation multiple\n",
        "nbr_simulation = 10000\n",
        "\n",
        "print(f\"💰 Balance initiale : {original_balance}$\")\n",
        "print(f\"🎯 Taux de victoire estimé : {win_chance:.2f}%\\n\")\n",
        "\n",
        "results = [run_simulation() for _ in range(nbr_simulation)]\n",
        "\n",
        "wins = results.count(True)\n",
        "losses = results.count(False)\n",
        "win_percentage = (wins / nbr_simulation) * 100\n",
        "\n",
        "print(f\"Sur {nbr_simulation} simulations :\")\n",
        "print(f\"✅ Victoires : {wins} ({win_percentage:.2f}%)\")\n",
        "print(f\"❌ Défaites : {losses} ({100 - win_percentage:.2f}%)\")\n"
      ],
      "metadata": {
        "colab": {
          "base_uri": "https://localhost:8080/"
        },
        "id": "lsvGrUhvt9kW",
        "outputId": "6281ef5c-e122-44ef-f7b2-d249d5c5d65e"
      },
      "execution_count": 28,
      "outputs": [
        {
          "output_type": "stream",
          "name": "stdout",
          "text": [
            "💰 Balance initiale : 100$\n",
            "🎯 Taux de victoire estimé : 52.11%\n",
            "\n",
            "Sur 10000 simulations :\n",
            "✅ Victoires : 7217 (72.17%)\n",
            "❌ Défaites : 2783 (27.83%)\n"
          ]
        }
      ]
    },
    {
      "cell_type": "code",
      "source": [
        "def run_simulation_return_balance():\n",
        "    balance = original_balance\n",
        "    bet = original_bet\n",
        "\n",
        "    for turn in range(nbr_turns):\n",
        "        if bet > balance:\n",
        "            break\n",
        "\n",
        "        balance -= bet\n",
        "        limbo_result = generate_limbo_result()\n",
        "\n",
        "        if limbo_result >= target_multiplier:\n",
        "            gain = bet * target_multiplier\n",
        "            balance += gain\n",
        "            bet = original_bet\n",
        "        else:\n",
        "            bet *= 2\n",
        "\n",
        "    return balance\n",
        "\n",
        "print(f\"💰 Balance initiale : {original_balance}$\")\n",
        "print(f\"🎯 Taux de victoire estimé : {win_chance:.2f}%\\n\")\n",
        "\n",
        "# Collecte des balances finales\n",
        "balances = [run_simulation_return_balance() for _ in range(nbr_simulation)]\n",
        "\n",
        "# Filtrer les gains\n",
        "winning_balances = [b for b in balances if b >= original_balance]\n",
        "\n",
        "if winning_balances:\n",
        "    min_balance = min(winning_balances)\n",
        "    max_balance = max(winning_balances)\n",
        "    avg_balance = sum(winning_balances) / len(winning_balances)\n",
        "\n",
        "    print(f\"✅ Nombre de simulation gagnantes : {len(winning_balances)} / {nbr_simulation}\")\n",
        "    print(f\"💵 Gain minimal    : {min_balance:.2f}$\")\n",
        "    print(f\"💵 Gain maximal    : {max_balance:.2f}$\")\n",
        "    print(f\"💵 Gain moyen      : {avg_balance:.2f}$\")\n",
        "else:\n",
        "    print(\"❌ Aucune partie gagnante\")\n"
      ],
      "metadata": {
        "colab": {
          "base_uri": "https://localhost:8080/"
        },
        "id": "8kLD-MYguCt_",
        "outputId": "0da5f397-0d44-4ee5-f0ad-23cddc27ba87"
      },
      "execution_count": 31,
      "outputs": [
        {
          "output_type": "stream",
          "name": "stdout",
          "text": [
            "💰 Balance initiale : 100$\n",
            "🎯 Taux de victoire estimé : 52.11%\n",
            "\n",
            "✅ Nombre de parties gagnantes : 7292 / 10000\n",
            "💵 Gain minimal    : 100.46$\n",
            "💵 Gain maximal    : 145.15$\n",
            "💵 Gain moyen      : 130.62$\n"
          ]
        }
      ]
    }
  ]
}